{
 "cells": [
  {
   "cell_type": "code",
   "execution_count": 1,
   "id": "d49a5a5b-5445-4579-9361-797ee3e258f8",
   "metadata": {},
   "outputs": [
    {
     "name": "stdout",
     "output_type": "stream",
     "text": [
      "hello world\n"
     ]
    }
   ],
   "source": [
    "print(\"hello world\")"
   ]
  },
  {
   "cell_type": "code",
   "execution_count": 2,
   "id": "c1cb52a3-a758-44c8-a0b7-ca2635d709cd",
   "metadata": {},
   "outputs": [
    {
     "name": "stdout",
     "output_type": "stream",
     "text": [
      "Variable   Type    Data/Info\n",
      "----------------------------\n",
      "x          int     3\n"
     ]
    }
   ],
   "source": [
    "x=3\n",
    "%whos\n"
   ]
  },
  {
   "cell_type": "code",
   "execution_count": 3,
   "id": "fcd3f7d8-1d2f-4cb9-90b5-ee5768213f8f",
   "metadata": {},
   "outputs": [
    {
     "name": "stdout",
     "output_type": "stream",
     "text": [
      "<class 'int'>\n"
     ]
    }
   ],
   "source": [
    "print(type(x))\n"
   ]
  },
  {
   "cell_type": "code",
   "execution_count": 4,
   "id": "5ae99bed-b29e-46c4-917a-02bb3f889b95",
   "metadata": {},
   "outputs": [
    {
     "name": "stdout",
     "output_type": "stream",
     "text": [
      "Variable   Type     Data/Info\n",
      "-----------------------------\n",
      "abcd       float    555.32\n",
      "x          int      3\n"
     ]
    }
   ],
   "source": [
    "abcd=555.32\n",
    "%whos\n"
   ]
  },
  {
   "cell_type": "code",
   "execution_count": 5,
   "id": "30b7be97-fc4a-4d61-b91c-2aa4f9f0b863",
   "metadata": {},
   "outputs": [
    {
     "name": "stdout",
     "output_type": "stream",
     "text": [
      "<class 'str'>\n"
     ]
    }
   ],
   "source": [
    "s=\"hellow how are you\"\n",
    "print(type(s))"
   ]
  },
  {
   "cell_type": "code",
   "execution_count": 6,
   "id": "20112f6b-8129-46f3-8e27-06a0ce313921",
   "metadata": {},
   "outputs": [
    {
     "ename": "NameError",
     "evalue": "name 'x' is not defined",
     "output_type": "error",
     "traceback": [
      "\u001b[1;31m---------------------------------------------------------------------------\u001b[0m",
      "\u001b[1;31mNameError\u001b[0m                                 Traceback (most recent call last)",
      "Cell \u001b[1;32mIn[6], line 2\u001b[0m\n\u001b[0;32m      1\u001b[0m \u001b[38;5;28;01mdel\u001b[39;00m x\n\u001b[1;32m----> 2\u001b[0m \u001b[38;5;28mprint\u001b[39m(\u001b[43mx\u001b[49m)\n",
      "\u001b[1;31mNameError\u001b[0m: name 'x' is not defined"
     ]
    }
   ],
   "source": [
    "del x\n",
    "print(x)"
   ]
  },
  {
   "cell_type": "code",
   "execution_count": 7,
   "id": "e473e16b-c450-4f01-8f3e-44d30de87179",
   "metadata": {},
   "outputs": [
    {
     "name": "stdout",
     "output_type": "stream",
     "text": [
      "8\n"
     ]
    }
   ],
   "source": [
    "x=2**3\n",
    "print(x)"
   ]
  },
  {
   "cell_type": "code",
   "execution_count": 8,
   "id": "b9fb87cc-04a0-4207-b565-a576bd5a12fd",
   "metadata": {},
   "outputs": [
    {
     "ename": "SyntaxError",
     "evalue": "invalid syntax (1074977042.py, line 1)",
     "output_type": "error",
     "traceback": [
      "\u001b[1;36m  Cell \u001b[1;32mIn[8], line 1\u001b[1;36m\u001b[0m\n\u001b[1;33m    x=2***3\u001b[0m\n\u001b[1;37m         ^\u001b[0m\n\u001b[1;31mSyntaxError\u001b[0m\u001b[1;31m:\u001b[0m invalid syntax\n"
     ]
    }
   ],
   "source": [
    "x=2***3\n",
    "print(x)"
   ]
  },
  {
   "cell_type": "code",
   "execution_count": 9,
   "id": "52d79e0b-18b6-4627-a389-5d0270c50494",
   "metadata": {},
   "outputs": [
    {
     "name": "stdout",
     "output_type": "stream",
     "text": [
      "8\n"
     ]
    }
   ],
   "source": [
    "print(x)"
   ]
  },
  {
   "cell_type": "code",
   "execution_count": 14,
   "id": "5da6a433-7151-4e25-b5ff-cce237b9a545",
   "metadata": {},
   "outputs": [
    {
     "name": "stdout",
     "output_type": "stream",
     "text": [
      "110.0\n",
      "<class 'float'>\n"
     ]
    }
   ],
   "source": [
    "a=80.0\n",
    "b=30\n",
    "\n",
    "sumOfAndb=a+b\n",
    "print(sumOfAndb)\n",
    "print(type(sumOfAndb))"
   ]
  },
  {
   "cell_type": "code",
   "execution_count": 15,
   "id": "a056fb68-4c39-4407-8f0b-23f66c2da432",
   "metadata": {},
   "outputs": [
    {
     "name": "stdout",
     "output_type": "stream",
     "text": [
      "helloworld\n"
     ]
    }
   ],
   "source": [
    "s1=\"hello\"\n",
    "s2=\"world\"\n",
    "sum=s1+s2\n",
    "print(sum)"
   ]
  },
  {
   "cell_type": "code",
   "execution_count": 16,
   "id": "0ffd5d18-e309-4ea0-a6f4-7738d92622dd",
   "metadata": {},
   "outputs": [
    {
     "name": "stdout",
     "output_type": "stream",
     "text": [
      "docstring comment\n"
     ]
    },
    {
     "data": {
      "text/plain": [
       "'\\nusing docstring are omitted by the comments\\n'"
      ]
     },
     "execution_count": 16,
     "metadata": {},
     "output_type": "execute_result"
    }
   ],
   "source": [
    "print(\"docstring comment\")\n",
    "\"\"\"\n",
    "using docstring are omitted by the comments\n",
    "\"\"\""
   ]
  },
  {
   "cell_type": "code",
   "execution_count": 17,
   "id": "fe6c29c6-176c-40ff-a484-0367e6848a72",
   "metadata": {},
   "outputs": [
    {
     "data": {
      "text/plain": [
       "6"
      ]
     },
     "execution_count": 17,
     "metadata": {},
     "output_type": "execute_result"
    }
   ],
   "source": [
    "\"\"\"\n",
    "using docstring are omitted by the comments\n",
    "\"\"\"\n",
    "x=1\n",
    "y=2\n",
    "z=3\n",
    "x+y+z"
   ]
  },
  {
   "cell_type": "code",
   "execution_count": 18,
   "id": "1e21ce2d-cf07-49cc-b769-6eae3318b49e",
   "metadata": {},
   "outputs": [
    {
     "data": {
      "text/plain": [
       "'\\nusing docstring are omitted by the comments\\n'"
      ]
     },
     "execution_count": 18,
     "metadata": {},
     "output_type": "execute_result"
    }
   ],
   "source": [
    "x=1\n",
    "y=2\n",
    "z=3\n",
    "x+y+z\n",
    "\"\"\"\n",
    "using docstring are omitted by the comments\n",
    "\"\"\""
   ]
  },
  {
   "cell_type": "code",
   "execution_count": 1,
   "id": "72fec6a7-41b5-430e-b494-905569584467",
   "metadata": {},
   "outputs": [
    {
     "name": "stdout",
     "output_type": "stream",
     "text": [
      "cccccccccccccccccccc\n"
     ]
    },
    {
     "data": {
      "text/plain": [
       "6"
      ]
     },
     "execution_count": 1,
     "metadata": {},
     "output_type": "execute_result"
    }
   ],
   "source": [
    "\"variable is a momery location to store a data\"\n",
    "x=20\n",
    "y=\"c\"\n",
    "print(x*y)\n",
    "type(x*y)\n",
    "n=\"chandu\"\n",
    "len(n)"
   ]
  },
  {
   "cell_type": "raw",
   "id": "5bc88180-5ea9-4437-b28c-740f4a45528f",
   "metadata": {},
   "source": [
    "# bool"
   ]
  },
  {
   "cell_type": "code",
   "execution_count": 2,
   "id": "3907e127-f69b-4e7e-97a9-ac04a3153898",
   "metadata": {},
   "outputs": [
    {
     "name": "stdout",
     "output_type": "stream",
     "text": [
      "Variable   Type    Data/Info\n",
      "----------------------------\n",
      "a          bool    True\n",
      "b          bool    True\n",
      "c          bool    False\n",
      "n          str     chandu\n",
      "x          int     20\n",
      "y          str     c\n"
     ]
    }
   ],
   "source": [
    "a=True \n",
    "b=True\n",
    "c=False\n",
    "%whos"
   ]
  },
  {
   "cell_type": "code",
   "execution_count": 4,
   "id": "e6973473-2f42-4538-bcc8-ad2691aa170d",
   "metadata": {},
   "outputs": [
    {
     "name": "stdout",
     "output_type": "stream",
     "text": [
      "True\n",
      "False\n",
      "True\n",
      "True\n"
     ]
    }
   ],
   "source": [
    "print(a and b)\n",
    "print(a and c)\n",
    "print(a or b)\n",
    "print(a or b)"
   ]
  },
  {
   "cell_type": "code",
   "execution_count": 5,
   "id": "3d6d130e-ea5c-4637-bb52-fca88902bb73",
   "metadata": {},
   "outputs": [
    {
     "name": "stdout",
     "output_type": "stream",
     "text": [
      "True\n"
     ]
    }
   ],
   "source": [
    "#comparison\n",
    "print(2<3)"
   ]
  },
  {
   "cell_type": "code",
   "execution_count": 6,
   "id": "3fca5405-8047-4a60-bfbb-de157ec61529",
   "metadata": {},
   "outputs": [
    {
     "name": "stdout",
     "output_type": "stream",
     "text": [
      "<class 'bool'>\n"
     ]
    }
   ],
   "source": [
    "c=2<3\n",
    "print(type(c))"
   ]
  },
  {
   "cell_type": "code",
   "execution_count": 9,
   "id": "3b3f758c-5c92-4409-9e35-e89a3b0d7e40",
   "metadata": {},
   "outputs": [
    {
     "data": {
      "text/plain": [
       "True"
      ]
     },
     "execution_count": 9,
     "metadata": {},
     "output_type": "execute_result"
    }
   ],
   "source": [
    "False and False or True"
   ]
  },
  {
   "cell_type": "code",
   "execution_count": 10,
   "id": "0402fc42-d631-42c1-8a6d-65ed33a2eaf5",
   "metadata": {},
   "outputs": [
    {
     "data": {
      "text/plain": [
       "False"
      ]
     },
     "execution_count": 10,
     "metadata": {},
     "output_type": "execute_result"
    }
   ],
   "source": [
    "False or False and True"
   ]
  },
  {
   "cell_type": "code",
   "execution_count": 12,
   "id": "260ad3d7-0c3c-4374-b1f2-6cadb192595f",
   "metadata": {},
   "outputs": [
    {
     "data": {
      "text/plain": [
       "False"
      ]
     },
     "execution_count": 12,
     "metadata": {},
     "output_type": "execute_result"
    }
   ],
   "source": [
    "not((2!=3) and True) or (False and True)"
   ]
  },
  {
   "cell_type": "code",
   "execution_count": 16,
   "id": "b3c576bf-a7e2-4869-9bfa-d61ed1ab0e20",
   "metadata": {},
   "outputs": [
    {
     "data": {
      "text/plain": [
       "(5, 2)"
      ]
     },
     "execution_count": 16,
     "metadata": {},
     "output_type": "execute_result"
    }
   ],
   "source": [
    "divmod(27,5)"
   ]
  },
  {
   "cell_type": "code",
   "execution_count": 4,
   "id": "70585993-6957-4531-9995-27e8f5ba3f06",
   "metadata": {},
   "outputs": [
    {
     "name": "stdin",
     "output_type": "stream",
     "text": [
      "enter a value: 23\n",
      "enter b vaue: 23\n"
     ]
    },
    {
     "name": "stdout",
     "output_type": "stream",
     "text": [
      "both are same number\n"
     ]
    }
   ],
   "source": [
    "a=int(input(\"enter a value:\"))\n",
    "b=int(input(\"enter b vaue:\"))\n",
    "if a>b:\n",
    "    print(\"a is greatest number:\")\n",
    "elif a==b:\n",
    "    print(\"both are same number\")\n",
    "else:\n",
    "    print(\"b is greatest number:\")"
   ]
  },
  {
   "cell_type": "code",
   "execution_count": null,
   "id": "37918877-887d-4026-9de6-2dadb0fd0cb0",
   "metadata": {},
   "outputs": [],
   "source": [
    "help(pow)"
   ]
  },
  {
   "cell_type": "code",
   "execution_count": null,
   "id": "a81772b8-88dd-4b32-bbdf-432aa1e25c6f",
   "metadata": {},
   "outputs": [],
   "source": []
  }
 ],
 "metadata": {
  "kernelspec": {
   "display_name": "Python 3 (ipykernel)",
   "language": "python",
   "name": "python3"
  },
  "language_info": {
   "codemirror_mode": {
    "name": "ipython",
    "version": 3
   },
   "file_extension": ".py",
   "mimetype": "text/x-python",
   "name": "python",
   "nbconvert_exporter": "python",
   "pygments_lexer": "ipython3",
   "version": "3.12.2"
  }
 },
 "nbformat": 4,
 "nbformat_minor": 5
}
