{
 "cells": [
  {
   "cell_type": "code",
   "execution_count": 6,
   "id": "fbb3e2e1-f09e-47c9-922b-8fe6d0d26096",
   "metadata": {},
   "outputs": [],
   "source": [
    "import matplotlib as mp\n",
    "import numpy as np\n",
    "import pandas as pd"
   ]
  },
  {
   "cell_type": "code",
   "execution_count": 7,
   "id": "25766f96-4a80-46b5-b368-6ad420e03cbd",
   "metadata": {},
   "outputs": [
    {
     "ename": "NameError",
     "evalue": "name 'disp' is not defined",
     "output_type": "error",
     "traceback": [
      "\u001b[1;31m---------------------------------------------------------------------------\u001b[0m",
      "\u001b[1;31mNameError\u001b[0m                                 Traceback (most recent call last)",
      "Cell \u001b[1;32mIn[7], line 5\u001b[0m\n\u001b[0;32m      1\u001b[0m \u001b[38;5;66;03m# MATLAB Implementation for \u001b[39;00m\n\u001b[0;32m      2\u001b[0m \u001b[38;5;66;03m# Diagonalization of a Square Matrix:\u001b[39;00m\n\u001b[0;32m      3\u001b[0m \u001b[38;5;66;03m# clear all \u001b[39;00m\n\u001b[0;32m      4\u001b[0m \u001b[38;5;66;03m# clc\t \u001b[39;00m\n\u001b[1;32m----> 5\u001b[0m \u001b[43mdisp\u001b[49m(\u001b[38;5;124m\"\u001b[39m\u001b[38;5;124mMATLAB Implementation for Diagonalization of a Square Matrix | GeeksforGeeks\u001b[39m\u001b[38;5;124m\"\u001b[39m)\n\u001b[0;32m      6\u001b[0m A \u001b[38;5;241m=\u001b[39m \u001b[38;5;28minput\u001b[39m(\u001b[38;5;124m\"\u001b[39m\u001b[38;5;124mEnter a matrix A : \u001b[39m\u001b[38;5;124m\"\u001b[39m); \n\u001b[0;32m      7\u001b[0m [P , D] \u001b[38;5;241m=\u001b[39m eig(A); \n",
      "\u001b[1;31mNameError\u001b[0m: name 'disp' is not defined"
     ]
    }
   ],
   "source": [
    " # MATLAB Implementation for \n",
    " # Diagonalization of a Square Matrix:\n",
    "# clear all \n",
    "# clc\t \n",
    "disp(\"MATLAB Implementation for Diagonalization of a Square Matrix | GeeksforGeeks\")\n",
    "A = input(\"Enter a matrix A : \"); \n",
    "[P , D] = eig(A); \n",
    "D1 = inv(P)*(A)*(P);\n",
    "disp(\"Diagonal form 'D' of Input Matrix 'A' is:\")\n",
    "disp(D1)\n"
   ]
  },
  {
   "cell_type": "code",
   "execution_count": null,
   "id": "deac2e35-4b8e-4488-8f66-d868022639e8",
   "metadata": {},
   "outputs": [],
   "source": []
  }
 ],
 "metadata": {
  "kernelspec": {
   "display_name": "Python 3 (ipykernel)",
   "language": "python",
   "name": "python3"
  },
  "language_info": {
   "codemirror_mode": {
    "name": "ipython",
    "version": 3
   },
   "file_extension": ".py",
   "mimetype": "text/x-python",
   "name": "python",
   "nbconvert_exporter": "python",
   "pygments_lexer": "ipython3",
   "version": "3.12.2"
  }
 },
 "nbformat": 4,
 "nbformat_minor": 5
}
