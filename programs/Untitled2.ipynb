{
 "cells": [
  {
   "cell_type": "code",
   "execution_count": null,
   "id": "3fba1bd2-316d-4443-bc1f-2e5562b05cc1",
   "metadata": {},
   "outputs": [],
   "source": []
  }
 ],
 "metadata": {
  "kernelspec": {
   "display_name": "",
   "name": ""
  },
  "language_info": {
   "name": ""
  }
 },
 "nbformat": 4,
 "nbformat_minor": 5
}
